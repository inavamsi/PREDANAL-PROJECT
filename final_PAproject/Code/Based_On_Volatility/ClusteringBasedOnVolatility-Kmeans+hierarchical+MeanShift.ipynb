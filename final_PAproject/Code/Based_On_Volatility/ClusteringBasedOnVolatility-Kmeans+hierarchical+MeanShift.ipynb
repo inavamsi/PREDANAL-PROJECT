{
 "cells": [
  {
   "cell_type": "code",
   "execution_count": 1,
   "metadata": {},
   "outputs": [],
   "source": [
    "import pandas as pd"
   ]
  },
  {
   "cell_type": "code",
   "execution_count": 2,
   "metadata": {},
   "outputs": [],
   "source": [
    "file4= pd.read_excel('volatility_data.xlsx')"
   ]
  },
  {
   "cell_type": "code",
   "execution_count": 3,
   "metadata": {},
   "outputs": [
    {
     "data": {
      "text/html": [
       "<div>\n",
       "<style scoped>\n",
       "    .dataframe tbody tr th:only-of-type {\n",
       "        vertical-align: middle;\n",
       "    }\n",
       "\n",
       "    .dataframe tbody tr th {\n",
       "        vertical-align: top;\n",
       "    }\n",
       "\n",
       "    .dataframe thead th {\n",
       "        text-align: right;\n",
       "    }\n",
       "</style>\n",
       "<table border=\"1\" class=\"dataframe\">\n",
       "  <thead>\n",
       "    <tr style=\"text-align: right;\">\n",
       "      <th></th>\n",
       "      <th>index</th>\n",
       "      <th>Label</th>\n",
       "      <th>date</th>\n",
       "      <th>open</th>\n",
       "      <th>high</th>\n",
       "      <th>low</th>\n",
       "      <th>close</th>\n",
       "      <th>volume</th>\n",
       "      <th>diff</th>\n",
       "    </tr>\n",
       "  </thead>\n",
       "  <tbody>\n",
       "    <tr>\n",
       "      <th>0</th>\n",
       "      <td>0</td>\n",
       "      <td>AAPL</td>\n",
       "      <td>12-12-1980</td>\n",
       "      <td>0.4164</td>\n",
       "      <td>0.4182</td>\n",
       "      <td>0.4164</td>\n",
       "      <td>0.4164</td>\n",
       "      <td>117258400</td>\n",
       "      <td>0.000000</td>\n",
       "    </tr>\n",
       "    <tr>\n",
       "      <th>1</th>\n",
       "      <td>1</td>\n",
       "      <td>AAPL</td>\n",
       "      <td>15-12-1980</td>\n",
       "      <td>0.3966</td>\n",
       "      <td>0.3966</td>\n",
       "      <td>0.3947</td>\n",
       "      <td>0.3947</td>\n",
       "      <td>43971200</td>\n",
       "      <td>-5.211335</td>\n",
       "    </tr>\n",
       "    <tr>\n",
       "      <th>2</th>\n",
       "      <td>2</td>\n",
       "      <td>AAPL</td>\n",
       "      <td>16-12-1980</td>\n",
       "      <td>0.3675</td>\n",
       "      <td>0.3675</td>\n",
       "      <td>0.3657</td>\n",
       "      <td>0.3657</td>\n",
       "      <td>26432000</td>\n",
       "      <td>-7.347352</td>\n",
       "    </tr>\n",
       "    <tr>\n",
       "      <th>3</th>\n",
       "      <td>3</td>\n",
       "      <td>AAPL</td>\n",
       "      <td>17-12-1980</td>\n",
       "      <td>0.3747</td>\n",
       "      <td>0.3766</td>\n",
       "      <td>0.3747</td>\n",
       "      <td>0.3747</td>\n",
       "      <td>21610400</td>\n",
       "      <td>2.461034</td>\n",
       "    </tr>\n",
       "    <tr>\n",
       "      <th>4</th>\n",
       "      <td>4</td>\n",
       "      <td>AAPL</td>\n",
       "      <td>18-12-1980</td>\n",
       "      <td>0.3857</td>\n",
       "      <td>0.3874</td>\n",
       "      <td>0.3857</td>\n",
       "      <td>0.3857</td>\n",
       "      <td>18362400</td>\n",
       "      <td>2.935682</td>\n",
       "    </tr>\n",
       "  </tbody>\n",
       "</table>\n",
       "</div>"
      ],
      "text/plain": [
       "   index Label        date    open    high     low   close     volume  \\\n",
       "0      0  AAPL  12-12-1980  0.4164  0.4182  0.4164  0.4164  117258400   \n",
       "1      1  AAPL  15-12-1980  0.3966  0.3966  0.3947  0.3947   43971200   \n",
       "2      2  AAPL  16-12-1980  0.3675  0.3675  0.3657  0.3657   26432000   \n",
       "3      3  AAPL  17-12-1980  0.3747  0.3766  0.3747  0.3747   21610400   \n",
       "4      4  AAPL  18-12-1980  0.3857  0.3874  0.3857  0.3857   18362400   \n",
       "\n",
       "       diff  \n",
       "0  0.000000  \n",
       "1 -5.211335  \n",
       "2 -7.347352  \n",
       "3  2.461034  \n",
       "4  2.935682  "
      ]
     },
     "execution_count": 3,
     "metadata": {},
     "output_type": "execute_result"
    }
   ],
   "source": [
    "file4.head()"
   ]
  },
  {
   "cell_type": "code",
   "execution_count": 4,
   "metadata": {},
   "outputs": [
    {
     "data": {
      "text/html": [
       "<div>\n",
       "<style scoped>\n",
       "    .dataframe tbody tr th:only-of-type {\n",
       "        vertical-align: middle;\n",
       "    }\n",
       "\n",
       "    .dataframe tbody tr th {\n",
       "        vertical-align: top;\n",
       "    }\n",
       "\n",
       "    .dataframe thead th {\n",
       "        text-align: right;\n",
       "    }\n",
       "</style>\n",
       "<table border=\"1\" class=\"dataframe\">\n",
       "  <thead>\n",
       "    <tr style=\"text-align: right;\">\n",
       "      <th></th>\n",
       "      <th>index</th>\n",
       "      <th>open</th>\n",
       "      <th>high</th>\n",
       "      <th>low</th>\n",
       "      <th>close</th>\n",
       "      <th>volume</th>\n",
       "      <th>diff</th>\n",
       "    </tr>\n",
       "  </thead>\n",
       "  <tbody>\n",
       "    <tr>\n",
       "      <th>count</th>\n",
       "      <td>242646.000000</td>\n",
       "      <td>242646.000000</td>\n",
       "      <td>242646.000000</td>\n",
       "      <td>242646.000000</td>\n",
       "      <td>242646.000000</td>\n",
       "      <td>2.426460e+05</td>\n",
       "      <td>242646.000000</td>\n",
       "    </tr>\n",
       "    <tr>\n",
       "      <th>mean</th>\n",
       "      <td>5363.339425</td>\n",
       "      <td>37.030982</td>\n",
       "      <td>37.384201</td>\n",
       "      <td>36.663207</td>\n",
       "      <td>37.034393</td>\n",
       "      <td>1.713336e+07</td>\n",
       "      <td>0.064513</td>\n",
       "    </tr>\n",
       "    <tr>\n",
       "      <th>std</th>\n",
       "      <td>3588.783696</td>\n",
       "      <td>95.002349</td>\n",
       "      <td>95.823802</td>\n",
       "      <td>94.074328</td>\n",
       "      <td>94.986996</td>\n",
       "      <td>3.584422e+07</td>\n",
       "      <td>2.306925</td>\n",
       "    </tr>\n",
       "    <tr>\n",
       "      <th>min</th>\n",
       "      <td>0.000000</td>\n",
       "      <td>0.010400</td>\n",
       "      <td>0.010400</td>\n",
       "      <td>0.009600</td>\n",
       "      <td>0.010400</td>\n",
       "      <td>0.000000e+00</td>\n",
       "      <td>-99.965467</td>\n",
       "    </tr>\n",
       "    <tr>\n",
       "      <th>25%</th>\n",
       "      <td>2278.250000</td>\n",
       "      <td>1.931300</td>\n",
       "      <td>1.961900</td>\n",
       "      <td>1.907700</td>\n",
       "      <td>1.935100</td>\n",
       "      <td>2.336725e+06</td>\n",
       "      <td>-0.883231</td>\n",
       "    </tr>\n",
       "    <tr>\n",
       "      <th>50%</th>\n",
       "      <td>4923.000000</td>\n",
       "      <td>14.873550</td>\n",
       "      <td>15.031800</td>\n",
       "      <td>14.707100</td>\n",
       "      <td>14.872550</td>\n",
       "      <td>5.932400e+06</td>\n",
       "      <td>0.000000</td>\n",
       "    </tr>\n",
       "    <tr>\n",
       "      <th>75%</th>\n",
       "      <td>7987.000000</td>\n",
       "      <td>36.609400</td>\n",
       "      <td>36.944400</td>\n",
       "      <td>36.292700</td>\n",
       "      <td>36.627500</td>\n",
       "      <td>1.526962e+07</td>\n",
       "      <td>0.982500</td>\n",
       "    </tr>\n",
       "    <tr>\n",
       "      <th>max</th>\n",
       "      <td>14330.000000</td>\n",
       "      <td>2038.110000</td>\n",
       "      <td>2050.500000</td>\n",
       "      <td>2013.000000</td>\n",
       "      <td>2039.510000</td>\n",
       "      <td>1.855410e+09</td>\n",
       "      <td>98.845088</td>\n",
       "    </tr>\n",
       "  </tbody>\n",
       "</table>\n",
       "</div>"
      ],
      "text/plain": [
       "               index           open           high            low  \\\n",
       "count  242646.000000  242646.000000  242646.000000  242646.000000   \n",
       "mean     5363.339425      37.030982      37.384201      36.663207   \n",
       "std      3588.783696      95.002349      95.823802      94.074328   \n",
       "min         0.000000       0.010400       0.010400       0.009600   \n",
       "25%      2278.250000       1.931300       1.961900       1.907700   \n",
       "50%      4923.000000      14.873550      15.031800      14.707100   \n",
       "75%      7987.000000      36.609400      36.944400      36.292700   \n",
       "max     14330.000000    2038.110000    2050.500000    2013.000000   \n",
       "\n",
       "               close        volume           diff  \n",
       "count  242646.000000  2.426460e+05  242646.000000  \n",
       "mean       37.034393  1.713336e+07       0.064513  \n",
       "std        94.986996  3.584422e+07       2.306925  \n",
       "min         0.010400  0.000000e+00     -99.965467  \n",
       "25%         1.935100  2.336725e+06      -0.883231  \n",
       "50%        14.872550  5.932400e+06       0.000000  \n",
       "75%        36.627500  1.526962e+07       0.982500  \n",
       "max      2039.510000  1.855410e+09      98.845088  "
      ]
     },
     "execution_count": 4,
     "metadata": {},
     "output_type": "execute_result"
    }
   ],
   "source": [
    "file4.describe()"
   ]
  },
  {
   "cell_type": "code",
   "execution_count": 5,
   "metadata": {},
   "outputs": [],
   "source": [
    "labels = file4['Label'].unique()"
   ]
  },
  {
   "cell_type": "code",
   "execution_count": 6,
   "metadata": {},
   "outputs": [
    {
     "data": {
      "text/plain": [
       "array(['AAPL', 'AMZN', 'BA', 'BAC', 'CMCSA', 'DIS', 'FB', 'GOOGL', 'HSBC',\n",
       "       'IBM', 'INTC', 'JNJ', 'KO', 'MA', 'MCD', 'MSFT', 'ORCL', 'PEP',\n",
       "       'PFE', 'TM', 'TSLA', 'UNH', 'V', 'VZ', 'WFC', 'WMT', 'XOM'],\n",
       "      dtype=object)"
      ]
     },
     "execution_count": 6,
     "metadata": {},
     "output_type": "execute_result"
    }
   ],
   "source": [
    "labels"
   ]
  },
  {
   "cell_type": "code",
   "execution_count": 7,
   "metadata": {},
   "outputs": [],
   "source": [
    "temp100 = list()\n",
    "allPerLabel = list()\n",
    "result = list()\n",
    "s_neg = list()"
   ]
  },
  {
   "cell_type": "code",
   "execution_count": 8,
   "metadata": {},
   "outputs": [],
   "source": [
    "import numpy as np\n",
    "import statistics\n",
    "\n",
    "    \n",
    "for label in labels:\n",
    "    data = file4[file4['Label']==label]\n",
    "    count=2\n",
    "    ans=1\n",
    "    \n",
    "    for x in data['close']:\n",
    "        if count>=0:\n",
    "            temp100.append(x)\n",
    "            count=count-1\n",
    "        else:\n",
    "            #if ans==1:\n",
    "             #  print(np.std(temp100))\n",
    "            allPerLabel.append(np.std(temp100))\n",
    "           # if ans==1:\n",
    "            #    print(allPerLabel)\n",
    "               # ans=ans-1\n",
    "            temp100.clear()\n",
    "            temp100.append(x)\n",
    "            #temp100\n",
    "            count=100\n",
    "    result.append(statistics.mean(allPerLabel))\n",
    "    #print(result)\n",
    "    allPerLabel.clear()\n",
    "    count=100\n"
   ]
  },
  {
   "cell_type": "code",
   "execution_count": 9,
   "metadata": {},
   "outputs": [
    {
     "data": {
      "text/plain": [
       "[1.5516540369110678,\n",
       " 19.0262840516069,\n",
       " 4.516174117870255,\n",
       " 2.1234566486259623,\n",
       " 0.6529238423092047,\n",
       " 1.1029002691802934,\n",
       " 6.884336211190451,\n",
       " 25.700076038932778,\n",
       " 6.133647986291859,\n",
       " 2.40972319761851,\n",
       " 1.703064543843531,\n",
       " 1.0516501237523876,\n",
       " 0.6280659240863447,\n",
       " 3.521612960456809,\n",
       " 1.36527309188712,\n",
       " 1.454463991196709,\n",
       " 1.2968775909101296,\n",
       " 1.0558680139764407,\n",
       " 0.6558150926200754,\n",
       " 2.6817095902226735,\n",
       " 14.520186932423355,\n",
       " 3.3975784115133183,\n",
       " 3.9545902702724205,\n",
       " 1.5639645590431348,\n",
       " 0.7483391697460027,\n",
       " 1.2163428825535179,\n",
       " 1.1289200848713845]"
      ]
     },
     "execution_count": 9,
     "metadata": {},
     "output_type": "execute_result"
    }
   ],
   "source": [
    "result"
   ]
  },
  {
   "cell_type": "code",
   "execution_count": 10,
   "metadata": {},
   "outputs": [],
   "source": [
    "data_new=pd.DataFrame(result)"
   ]
  },
  {
   "cell_type": "code",
   "execution_count": 11,
   "metadata": {},
   "outputs": [
    {
     "data": {
      "text/html": [
       "<div>\n",
       "<style scoped>\n",
       "    .dataframe tbody tr th:only-of-type {\n",
       "        vertical-align: middle;\n",
       "    }\n",
       "\n",
       "    .dataframe tbody tr th {\n",
       "        vertical-align: top;\n",
       "    }\n",
       "\n",
       "    .dataframe thead th {\n",
       "        text-align: right;\n",
       "    }\n",
       "</style>\n",
       "<table border=\"1\" class=\"dataframe\">\n",
       "  <thead>\n",
       "    <tr style=\"text-align: right;\">\n",
       "      <th></th>\n",
       "      <th>0</th>\n",
       "    </tr>\n",
       "  </thead>\n",
       "  <tbody>\n",
       "    <tr>\n",
       "      <th>0</th>\n",
       "      <td>1.551654</td>\n",
       "    </tr>\n",
       "    <tr>\n",
       "      <th>1</th>\n",
       "      <td>19.026284</td>\n",
       "    </tr>\n",
       "    <tr>\n",
       "      <th>2</th>\n",
       "      <td>4.516174</td>\n",
       "    </tr>\n",
       "    <tr>\n",
       "      <th>3</th>\n",
       "      <td>2.123457</td>\n",
       "    </tr>\n",
       "    <tr>\n",
       "      <th>4</th>\n",
       "      <td>0.652924</td>\n",
       "    </tr>\n",
       "    <tr>\n",
       "      <th>5</th>\n",
       "      <td>1.102900</td>\n",
       "    </tr>\n",
       "    <tr>\n",
       "      <th>6</th>\n",
       "      <td>6.884336</td>\n",
       "    </tr>\n",
       "    <tr>\n",
       "      <th>7</th>\n",
       "      <td>25.700076</td>\n",
       "    </tr>\n",
       "    <tr>\n",
       "      <th>8</th>\n",
       "      <td>6.133648</td>\n",
       "    </tr>\n",
       "    <tr>\n",
       "      <th>9</th>\n",
       "      <td>2.409723</td>\n",
       "    </tr>\n",
       "    <tr>\n",
       "      <th>10</th>\n",
       "      <td>1.703065</td>\n",
       "    </tr>\n",
       "    <tr>\n",
       "      <th>11</th>\n",
       "      <td>1.051650</td>\n",
       "    </tr>\n",
       "    <tr>\n",
       "      <th>12</th>\n",
       "      <td>0.628066</td>\n",
       "    </tr>\n",
       "    <tr>\n",
       "      <th>13</th>\n",
       "      <td>3.521613</td>\n",
       "    </tr>\n",
       "    <tr>\n",
       "      <th>14</th>\n",
       "      <td>1.365273</td>\n",
       "    </tr>\n",
       "    <tr>\n",
       "      <th>15</th>\n",
       "      <td>1.454464</td>\n",
       "    </tr>\n",
       "    <tr>\n",
       "      <th>16</th>\n",
       "      <td>1.296878</td>\n",
       "    </tr>\n",
       "    <tr>\n",
       "      <th>17</th>\n",
       "      <td>1.055868</td>\n",
       "    </tr>\n",
       "    <tr>\n",
       "      <th>18</th>\n",
       "      <td>0.655815</td>\n",
       "    </tr>\n",
       "    <tr>\n",
       "      <th>19</th>\n",
       "      <td>2.681710</td>\n",
       "    </tr>\n",
       "    <tr>\n",
       "      <th>20</th>\n",
       "      <td>14.520187</td>\n",
       "    </tr>\n",
       "    <tr>\n",
       "      <th>21</th>\n",
       "      <td>3.397578</td>\n",
       "    </tr>\n",
       "    <tr>\n",
       "      <th>22</th>\n",
       "      <td>3.954590</td>\n",
       "    </tr>\n",
       "    <tr>\n",
       "      <th>23</th>\n",
       "      <td>1.563965</td>\n",
       "    </tr>\n",
       "    <tr>\n",
       "      <th>24</th>\n",
       "      <td>0.748339</td>\n",
       "    </tr>\n",
       "    <tr>\n",
       "      <th>25</th>\n",
       "      <td>1.216343</td>\n",
       "    </tr>\n",
       "    <tr>\n",
       "      <th>26</th>\n",
       "      <td>1.128920</td>\n",
       "    </tr>\n",
       "  </tbody>\n",
       "</table>\n",
       "</div>"
      ],
      "text/plain": [
       "            0\n",
       "0    1.551654\n",
       "1   19.026284\n",
       "2    4.516174\n",
       "3    2.123457\n",
       "4    0.652924\n",
       "5    1.102900\n",
       "6    6.884336\n",
       "7   25.700076\n",
       "8    6.133648\n",
       "9    2.409723\n",
       "10   1.703065\n",
       "11   1.051650\n",
       "12   0.628066\n",
       "13   3.521613\n",
       "14   1.365273\n",
       "15   1.454464\n",
       "16   1.296878\n",
       "17   1.055868\n",
       "18   0.655815\n",
       "19   2.681710\n",
       "20  14.520187\n",
       "21   3.397578\n",
       "22   3.954590\n",
       "23   1.563965\n",
       "24   0.748339\n",
       "25   1.216343\n",
       "26   1.128920"
      ]
     },
     "execution_count": 11,
     "metadata": {},
     "output_type": "execute_result"
    }
   ],
   "source": [
    "data_new"
   ]
  },
  {
   "cell_type": "code",
   "execution_count": 12,
   "metadata": {},
   "outputs": [],
   "source": [
    "file4= pd.read_excel('finalnew2.xlsx')"
   ]
  },
  {
   "cell_type": "code",
   "execution_count": 21,
   "metadata": {},
   "outputs": [],
   "source": [
    "data_new=pd.DataFrame(file4)"
   ]
  },
  {
   "cell_type": "code",
   "execution_count": 22,
   "metadata": {},
   "outputs": [
    {
     "data": {
      "text/html": [
       "<div>\n",
       "<style scoped>\n",
       "    .dataframe tbody tr th:only-of-type {\n",
       "        vertical-align: middle;\n",
       "    }\n",
       "\n",
       "    .dataframe tbody tr th {\n",
       "        vertical-align: top;\n",
       "    }\n",
       "\n",
       "    .dataframe thead th {\n",
       "        text-align: right;\n",
       "    }\n",
       "</style>\n",
       "<table border=\"1\" class=\"dataframe\">\n",
       "  <thead>\n",
       "    <tr style=\"text-align: right;\">\n",
       "      <th></th>\n",
       "      <th>index</th>\n",
       "      <th>close</th>\n",
       "    </tr>\n",
       "  </thead>\n",
       "  <tbody>\n",
       "    <tr>\n",
       "      <th>0</th>\n",
       "      <td>0</td>\n",
       "      <td>3.325472</td>\n",
       "    </tr>\n",
       "    <tr>\n",
       "      <th>1</th>\n",
       "      <td>1</td>\n",
       "      <td>14.948340</td>\n",
       "    </tr>\n",
       "    <tr>\n",
       "      <th>2</th>\n",
       "      <td>2</td>\n",
       "      <td>9.480086</td>\n",
       "    </tr>\n",
       "    <tr>\n",
       "      <th>3</th>\n",
       "      <td>3</td>\n",
       "      <td>2.688665</td>\n",
       "    </tr>\n",
       "    <tr>\n",
       "      <th>4</th>\n",
       "      <td>4</td>\n",
       "      <td>0.828690</td>\n",
       "    </tr>\n",
       "    <tr>\n",
       "      <th>5</th>\n",
       "      <td>5</td>\n",
       "      <td>2.606977</td>\n",
       "    </tr>\n",
       "    <tr>\n",
       "      <th>6</th>\n",
       "      <td>6</td>\n",
       "      <td>3.704209</td>\n",
       "    </tr>\n",
       "    <tr>\n",
       "      <th>7</th>\n",
       "      <td>7</td>\n",
       "      <td>25.449785</td>\n",
       "    </tr>\n",
       "    <tr>\n",
       "      <th>8</th>\n",
       "      <td>8</td>\n",
       "      <td>13.006269</td>\n",
       "    </tr>\n",
       "    <tr>\n",
       "      <th>9</th>\n",
       "      <td>9</td>\n",
       "      <td>7.532422</td>\n",
       "    </tr>\n",
       "    <tr>\n",
       "      <th>10</th>\n",
       "      <td>10</td>\n",
       "      <td>6.096703</td>\n",
       "    </tr>\n",
       "    <tr>\n",
       "      <th>11</th>\n",
       "      <td>11</td>\n",
       "      <td>2.446408</td>\n",
       "    </tr>\n",
       "    <tr>\n",
       "      <th>12</th>\n",
       "      <td>12</td>\n",
       "      <td>1.857465</td>\n",
       "    </tr>\n",
       "    <tr>\n",
       "      <th>13</th>\n",
       "      <td>13</td>\n",
       "      <td>1.875733</td>\n",
       "    </tr>\n",
       "    <tr>\n",
       "      <th>14</th>\n",
       "      <td>14</td>\n",
       "      <td>2.691385</td>\n",
       "    </tr>\n",
       "    <tr>\n",
       "      <th>15</th>\n",
       "      <td>15</td>\n",
       "      <td>2.887795</td>\n",
       "    </tr>\n",
       "    <tr>\n",
       "      <th>16</th>\n",
       "      <td>16</td>\n",
       "      <td>1.608982</td>\n",
       "    </tr>\n",
       "    <tr>\n",
       "      <th>17</th>\n",
       "      <td>17</td>\n",
       "      <td>2.478930</td>\n",
       "    </tr>\n",
       "    <tr>\n",
       "      <th>18</th>\n",
       "      <td>18</td>\n",
       "      <td>2.221441</td>\n",
       "    </tr>\n",
       "    <tr>\n",
       "      <th>19</th>\n",
       "      <td>19</td>\n",
       "      <td>5.436548</td>\n",
       "    </tr>\n",
       "    <tr>\n",
       "      <th>20</th>\n",
       "      <td>20</td>\n",
       "      <td>3.641980</td>\n",
       "    </tr>\n",
       "    <tr>\n",
       "      <th>21</th>\n",
       "      <td>21</td>\n",
       "      <td>2.690632</td>\n",
       "    </tr>\n",
       "    <tr>\n",
       "      <th>22</th>\n",
       "      <td>22</td>\n",
       "      <td>2.291718</td>\n",
       "    </tr>\n",
       "    <tr>\n",
       "      <th>23</th>\n",
       "      <td>23</td>\n",
       "      <td>1.336651</td>\n",
       "    </tr>\n",
       "    <tr>\n",
       "      <th>24</th>\n",
       "      <td>24</td>\n",
       "      <td>1.538955</td>\n",
       "    </tr>\n",
       "    <tr>\n",
       "      <th>25</th>\n",
       "      <td>25</td>\n",
       "      <td>2.396737</td>\n",
       "    </tr>\n",
       "    <tr>\n",
       "      <th>26</th>\n",
       "      <td>26</td>\n",
       "      <td>2.582942</td>\n",
       "    </tr>\n",
       "  </tbody>\n",
       "</table>\n",
       "</div>"
      ],
      "text/plain": [
       "    index      close\n",
       "0       0   3.325472\n",
       "1       1  14.948340\n",
       "2       2   9.480086\n",
       "3       3   2.688665\n",
       "4       4   0.828690\n",
       "5       5   2.606977\n",
       "6       6   3.704209\n",
       "7       7  25.449785\n",
       "8       8  13.006269\n",
       "9       9   7.532422\n",
       "10     10   6.096703\n",
       "11     11   2.446408\n",
       "12     12   1.857465\n",
       "13     13   1.875733\n",
       "14     14   2.691385\n",
       "15     15   2.887795\n",
       "16     16   1.608982\n",
       "17     17   2.478930\n",
       "18     18   2.221441\n",
       "19     19   5.436548\n",
       "20     20   3.641980\n",
       "21     21   2.690632\n",
       "22     22   2.291718\n",
       "23     23   1.336651\n",
       "24     24   1.538955\n",
       "25     25   2.396737\n",
       "26     26   2.582942"
      ]
     },
     "execution_count": 22,
     "metadata": {},
     "output_type": "execute_result"
    }
   ],
   "source": [
    "data_new"
   ]
  },
  {
   "cell_type": "code",
   "execution_count": 23,
   "metadata": {},
   "outputs": [
    {
     "data": {
      "text/plain": [
       "array([3, 5, 6, 3, 3, 3, 3, 7, 8, 4, 4, 0, 0, 0, 0, 0, 0, 1, 1, 1, 1, 2,\n",
       "       2, 2, 2, 2, 2], dtype=int64)"
      ]
     },
     "execution_count": 23,
     "metadata": {},
     "output_type": "execute_result"
    }
   ],
   "source": [
    "from sklearn.cluster import MeanShift\n",
    "\n",
    "clustering =MeanShift(bandwidth=4).fit(data_new)\n",
    "clustering.labels_"
   ]
  },
  {
   "cell_type": "code",
   "execution_count": 25,
   "metadata": {},
   "outputs": [
    {
     "data": {
      "image/png": "[encoded data removed]",
      "text/plain": [
       "<Figure size 432x288 with 1 Axes>"
      ]
     },
     "metadata": {
      "needs_background": "light"
     },
     "output_type": "display_data"
    }
   ],
   "source": [
    "import matplotlib.pyplot as plt\n",
    "plt.scatter(data_new['index'], data_new['close'], c=clustering.labels_,\n",
    "            s=50, cmap='viridis');"
   ]
  },
  {
   "cell_type": "code",
   "execution_count": 26,
   "metadata": {},
   "outputs": [
    {
     "data": {
      "image/png": "[encoded data removed]",
      "text/plain": [
       "<Figure size 504x360 with 1 Axes>"
      ]
     },
     "metadata": {
      "needs_background": "light"
     },
     "output_type": "display_data"
    }
   ],
   "source": [
    "import matplotlib.pyplot as plt\n",
    "import scipy.cluster.hierarchy as shc\n",
    "\n",
    "plt.figure(figsize=(7, 5))  \n",
    "plt.title(\"Standard deviation\")  \n",
    "dend = shc.dendrogram(shc.linkage(data_new, method='ward')) "
   ]
  },
  {
   "cell_type": "code",
   "execution_count": 27,
   "metadata": {},
   "outputs": [
    {
     "data": {
      "text/plain": [
       "array([9, 0, 0, 2, 2, 2, 2, 5, 8, 7, 7, 3, 3, 3, 4, 4, 4, 4, 4, 1, 1, 1,\n",
       "       1, 6, 6, 6, 6], dtype=int64)"
      ]
     },
     "execution_count": 27,
     "metadata": {},
     "output_type": "execute_result"
    }
   ],
   "source": [
    "from sklearn.cluster import AgglomerativeClustering\n",
    "\n",
    "cluster = AgglomerativeClustering(n_clusters=10, affinity='euclidean', linkage='ward')  \n",
    "labels=cluster.fit_predict(data_new) \n",
    "labels"
   ]
  },
  {
   "cell_type": "code",
   "execution_count": 28,
   "metadata": {},
   "outputs": [
    {
     "data": {
      "image/png": "[encoded data removed]",
      "text/plain": [
       "<Figure size 432x288 with 1 Axes>"
      ]
     },
     "metadata": {
      "needs_background": "light"
     },
     "output_type": "display_data"
    }
   ],
   "source": [
    "plt.scatter(data_new['index'], data_new['close'], c=labels,\n",
    "            s=50, cmap='viridis');"
   ]
  },
  {
   "cell_type": "code",
   "execution_count": 29,
   "metadata": {},
   "outputs": [
    {
     "data": {
      "text/plain": [
       "Text(0.5,1,'Kmeans-std deviation')"
      ]
     },
     "execution_count": 29,
     "metadata": {},
     "output_type": "execute_result"
    },
    {
     "data": {
      "image/png": "[encoded data removed]",
      "text/plain": [
       "<Figure size 432x288 with 1 Axes>"
      ]
     },
     "metadata": {
      "needs_background": "light"
     },
     "output_type": "display_data"
    }
   ],
   "source": [
    "from sklearn.cluster import KMeans\n",
    "labels = KMeans(5, random_state=0).fit_predict(data_new)\n",
    "plt.scatter(data_new['index'], data_new['close'], c=labels,\n",
    "            s=50, cmap='viridis');\n",
    "plt.title('Kmeans-std deviation')\n"
   ]
  }
 ],
 "metadata": {
  "kernelspec": {
   "display_name": "Python 3",
   "language": "python",
   "name": "python3"
  },
  "language_info": {
   "codemirror_mode": {
    "name": "ipython",
    "version": 3
   },
   "file_extension": ".py",
   "mimetype": "text/x-python",
   "name": "python",
   "nbconvert_exporter": "python",
   "pygments_lexer": "ipython3",
   "version": "3.7.0"
  }
 },
 "nbformat": 4,
 "nbformat_minor": 2
}
