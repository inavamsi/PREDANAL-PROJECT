{
 "cells": [
  {
   "cell_type": "code",
   "execution_count": 1,
   "metadata": {},
   "outputs": [],
   "source": [
    "import pandas as pd"
   ]
  },
  {
   "cell_type": "code",
   "execution_count": 2,
   "metadata": {},
   "outputs": [],
   "source": [
    "file1 = pd.read_csv('AAPL.csv')"
   ]
  },
  {
   "cell_type": "code",
   "execution_count": 5,
   "metadata": {},
   "outputs": [
    {
     "data": {
      "text/html": [
       "<div>\n",
       "<style scoped>\n",
       "    .dataframe tbody tr th:only-of-type {\n",
       "        vertical-align: middle;\n",
       "    }\n",
       "\n",
       "    .dataframe tbody tr th {\n",
       "        vertical-align: top;\n",
       "    }\n",
       "\n",
       "    .dataframe thead th {\n",
       "        text-align: right;\n",
       "    }\n",
       "</style>\n",
       "<table border=\"1\" class=\"dataframe\">\n",
       "  <thead>\n",
       "    <tr style=\"text-align: right;\">\n",
       "      <th></th>\n",
       "      <th>open</th>\n",
       "      <th>high</th>\n",
       "      <th>low</th>\n",
       "      <th>close</th>\n",
       "      <th>volume</th>\n",
       "    </tr>\n",
       "  </thead>\n",
       "  <tbody>\n",
       "    <tr>\n",
       "      <th>count</th>\n",
       "      <td>9535.000000</td>\n",
       "      <td>9535.000000</td>\n",
       "      <td>9535.000000</td>\n",
       "      <td>9535.000000</td>\n",
       "      <td>9.535000e+03</td>\n",
       "    </tr>\n",
       "    <tr>\n",
       "      <th>mean</th>\n",
       "      <td>23.704906</td>\n",
       "      <td>23.927566</td>\n",
       "      <td>23.471969</td>\n",
       "      <td>23.705137</td>\n",
       "      <td>8.776811e+07</td>\n",
       "    </tr>\n",
       "    <tr>\n",
       "      <th>std</th>\n",
       "      <td>43.591410</td>\n",
       "      <td>43.947005</td>\n",
       "      <td>43.241828</td>\n",
       "      <td>43.604188</td>\n",
       "      <td>8.672296e+07</td>\n",
       "    </tr>\n",
       "    <tr>\n",
       "      <th>min</th>\n",
       "      <td>0.161100</td>\n",
       "      <td>0.161100</td>\n",
       "      <td>0.159300</td>\n",
       "      <td>0.159300</td>\n",
       "      <td>2.503760e+05</td>\n",
       "    </tr>\n",
       "    <tr>\n",
       "      <th>25%</th>\n",
       "      <td>0.916000</td>\n",
       "      <td>0.934950</td>\n",
       "      <td>0.898050</td>\n",
       "      <td>0.916900</td>\n",
       "      <td>3.409560e+07</td>\n",
       "    </tr>\n",
       "    <tr>\n",
       "      <th>50%</th>\n",
       "      <td>1.436300</td>\n",
       "      <td>1.460300</td>\n",
       "      <td>1.406400</td>\n",
       "      <td>1.435600</td>\n",
       "      <td>5.979120e+07</td>\n",
       "    </tr>\n",
       "    <tr>\n",
       "      <th>75%</th>\n",
       "      <td>22.005200</td>\n",
       "      <td>22.261000</td>\n",
       "      <td>21.624150</td>\n",
       "      <td>21.950150</td>\n",
       "      <td>1.097572e+08</td>\n",
       "    </tr>\n",
       "    <tr>\n",
       "      <th>max</th>\n",
       "      <td>230.780000</td>\n",
       "      <td>233.470000</td>\n",
       "      <td>229.780000</td>\n",
       "      <td>232.070000</td>\n",
       "      <td>1.855410e+09</td>\n",
       "    </tr>\n",
       "  </tbody>\n",
       "</table>\n",
       "</div>"
      ],
      "text/plain": [
       "              open         high          low        close        volume\n",
       "count  9535.000000  9535.000000  9535.000000  9535.000000  9.535000e+03\n",
       "mean     23.704906    23.927566    23.471969    23.705137  8.776811e+07\n",
       "std      43.591410    43.947005    43.241828    43.604188  8.672296e+07\n",
       "min       0.161100     0.161100     0.159300     0.159300  2.503760e+05\n",
       "25%       0.916000     0.934950     0.898050     0.916900  3.409560e+07\n",
       "50%       1.436300     1.460300     1.406400     1.435600  5.979120e+07\n",
       "75%      22.005200    22.261000    21.624150    21.950150  1.097572e+08\n",
       "max     230.780000   233.470000   229.780000   232.070000  1.855410e+09"
      ]
     },
     "execution_count": 5,
     "metadata": {},
     "output_type": "execute_result"
    }
   ],
   "source": [
    "file1.describe()"
   ]
  },
  {
   "cell_type": "code",
   "execution_count": 5,
   "metadata": {},
   "outputs": [],
   "source": [
    "import os\n",
    "files=os.listdir(\"Stock CSV_s\")"
   ]
  },
  {
   "cell_type": "code",
   "execution_count": 6,
   "metadata": {},
   "outputs": [
    {
     "data": {
      "text/plain": [
       "['AAPL.csv',\n",
       " 'AMZN.csv',\n",
       " 'BA.csv',\n",
       " 'BAC.csv',\n",
       " 'CMCSA.csv',\n",
       " 'DIS.csv',\n",
       " 'FB.csv',\n",
       " 'GOOGL.csv',\n",
       " 'HSBC.csv',\n",
       " 'IBM.csv',\n",
       " 'INTC.csv',\n",
       " 'JNJ.csv',\n",
       " 'KO.csv',\n",
       " 'MA.csv',\n",
       " 'MCD.csv',\n",
       " 'MSFT.csv',\n",
       " 'ORCL.csv',\n",
       " 'PEP.csv',\n",
       " 'PFE.csv',\n",
       " 'TM.csv',\n",
       " 'TSLA.csv',\n",
       " 'UNH.csv',\n",
       " 'V.csv',\n",
       " 'VZ.csv',\n",
       " 'WFC.csv',\n",
       " 'WMT.csv',\n",
       " 'XOM.csv']"
      ]
     },
     "execution_count": 6,
     "metadata": {},
     "output_type": "execute_result"
    }
   ],
   "source": [
    "files"
   ]
  },
  {
   "cell_type": "code",
   "execution_count": 7,
   "metadata": {},
   "outputs": [
    {
     "name": "stdout",
     "output_type": "stream",
     "text": [
      "AAPL.csv\n",
      "AMZN.csv\n",
      "BA.csv\n",
      "BAC.csv\n",
      "CMCSA.csv\n",
      "DIS.csv\n",
      "FB.csv\n",
      "GOOGL.csv\n",
      "HSBC.csv\n",
      "IBM.csv\n",
      "INTC.csv\n",
      "JNJ.csv\n",
      "KO.csv\n",
      "MA.csv\n",
      "MCD.csv\n",
      "MSFT.csv\n",
      "ORCL.csv\n",
      "PEP.csv\n",
      "PFE.csv\n",
      "TM.csv\n",
      "TSLA.csv\n",
      "UNH.csv\n",
      "V.csv\n",
      "VZ.csv\n",
      "WFC.csv\n",
      "WMT.csv\n",
      "XOM.csv\n"
     ]
    }
   ],
   "source": [
    "for file in files:\n",
    "    print(file)"
   ]
  },
  {
   "cell_type": "code",
   "execution_count": 8,
   "metadata": {
    "scrolled": true
   },
   "outputs": [
    {
     "name": "stdout",
     "output_type": "stream",
     "text": [
      "AAPL.csv\n",
      "AMZN.csv\n",
      "BA.csv\n",
      "BAC.csv\n",
      "CMCSA.csv\n",
      "DIS.csv\n",
      "FB.csv\n",
      "GOOGL.csv\n",
      "HSBC.csv\n",
      "IBM.csv\n",
      "INTC.csv\n",
      "JNJ.csv\n",
      "KO.csv\n",
      "MA.csv\n",
      "MCD.csv\n",
      "MSFT.csv\n",
      "ORCL.csv\n",
      "PEP.csv\n",
      "PFE.csv\n",
      "TM.csv\n",
      "TSLA.csv\n",
      "UNH.csv\n",
      "V.csv\n",
      "VZ.csv\n",
      "WFC.csv\n",
      "WMT.csv\n",
      "XOM.csv\n"
     ]
    }
   ],
   "source": [
    "file3 = pd.DataFrame()\n",
    "for file in files:\n",
    "    print(file)\n",
    "    x=pd.read_csv(file)\n",
    "    file3 = file3.append(x)\n",
    "    "
   ]
  },
  {
   "cell_type": "code",
   "execution_count": 9,
   "metadata": {
    "scrolled": true
   },
   "outputs": [
    {
     "data": {
      "text/html": [
       "<div>\n",
       "<style scoped>\n",
       "    .dataframe tbody tr th:only-of-type {\n",
       "        vertical-align: middle;\n",
       "    }\n",
       "\n",
       "    .dataframe tbody tr th {\n",
       "        vertical-align: top;\n",
       "    }\n",
       "\n",
       "    .dataframe thead th {\n",
       "        text-align: right;\n",
       "    }\n",
       "</style>\n",
       "<table border=\"1\" class=\"dataframe\">\n",
       "  <thead>\n",
       "    <tr style=\"text-align: right;\">\n",
       "      <th></th>\n",
       "      <th>open</th>\n",
       "      <th>high</th>\n",
       "      <th>low</th>\n",
       "      <th>close</th>\n",
       "      <th>volume</th>\n",
       "    </tr>\n",
       "  </thead>\n",
       "  <tbody>\n",
       "    <tr>\n",
       "      <th>count</th>\n",
       "      <td>242646.000000</td>\n",
       "      <td>242646.000000</td>\n",
       "      <td>242646.000000</td>\n",
       "      <td>242646.000000</td>\n",
       "      <td>2.426460e+05</td>\n",
       "    </tr>\n",
       "    <tr>\n",
       "      <th>mean</th>\n",
       "      <td>37.030982</td>\n",
       "      <td>37.384201</td>\n",
       "      <td>36.663207</td>\n",
       "      <td>37.034393</td>\n",
       "      <td>1.713336e+07</td>\n",
       "    </tr>\n",
       "    <tr>\n",
       "      <th>std</th>\n",
       "      <td>95.002349</td>\n",
       "      <td>95.823802</td>\n",
       "      <td>94.074328</td>\n",
       "      <td>94.986996</td>\n",
       "      <td>3.584422e+07</td>\n",
       "    </tr>\n",
       "    <tr>\n",
       "      <th>min</th>\n",
       "      <td>0.010400</td>\n",
       "      <td>0.010400</td>\n",
       "      <td>0.009600</td>\n",
       "      <td>0.010400</td>\n",
       "      <td>0.000000e+00</td>\n",
       "    </tr>\n",
       "    <tr>\n",
       "      <th>25%</th>\n",
       "      <td>1.931300</td>\n",
       "      <td>1.961900</td>\n",
       "      <td>1.907700</td>\n",
       "      <td>1.935100</td>\n",
       "      <td>2.336725e+06</td>\n",
       "    </tr>\n",
       "    <tr>\n",
       "      <th>50%</th>\n",
       "      <td>14.873550</td>\n",
       "      <td>15.031800</td>\n",
       "      <td>14.707100</td>\n",
       "      <td>14.872550</td>\n",
       "      <td>5.932400e+06</td>\n",
       "    </tr>\n",
       "    <tr>\n",
       "      <th>75%</th>\n",
       "      <td>36.609400</td>\n",
       "      <td>36.944400</td>\n",
       "      <td>36.292700</td>\n",
       "      <td>36.627500</td>\n",
       "      <td>1.526962e+07</td>\n",
       "    </tr>\n",
       "    <tr>\n",
       "      <th>max</th>\n",
       "      <td>2038.110000</td>\n",
       "      <td>2050.500000</td>\n",
       "      <td>2013.000000</td>\n",
       "      <td>2039.510000</td>\n",
       "      <td>1.855410e+09</td>\n",
       "    </tr>\n",
       "  </tbody>\n",
       "</table>\n",
       "</div>"
      ],
      "text/plain": [
       "                open           high            low          close  \\\n",
       "count  242646.000000  242646.000000  242646.000000  242646.000000   \n",
       "mean       37.030982      37.384201      36.663207      37.034393   \n",
       "std        95.002349      95.823802      94.074328      94.986996   \n",
       "min         0.010400       0.010400       0.009600       0.010400   \n",
       "25%         1.931300       1.961900       1.907700       1.935100   \n",
       "50%        14.873550      15.031800      14.707100      14.872550   \n",
       "75%        36.609400      36.944400      36.292700      36.627500   \n",
       "max      2038.110000    2050.500000    2013.000000    2039.510000   \n",
       "\n",
       "             volume  \n",
       "count  2.426460e+05  \n",
       "mean   1.713336e+07  \n",
       "std    3.584422e+07  \n",
       "min    0.000000e+00  \n",
       "25%    2.336725e+06  \n",
       "50%    5.932400e+06  \n",
       "75%    1.526962e+07  \n",
       "max    1.855410e+09  "
      ]
     },
     "execution_count": 9,
     "metadata": {},
     "output_type": "execute_result"
    }
   ],
   "source": [
    "file3.describe()"
   ]
  },
  {
   "cell_type": "code",
   "execution_count": 13,
   "metadata": {},
   "outputs": [],
   "source": [
    "file3.to_excel('merged_datamorestocks_new.xlsx')"
   ]
  }
 ],
 "metadata": {
  "kernelspec": {
   "display_name": "Python 3",
   "language": "python",
   "name": "python3"
  },
  "language_info": {
   "codemirror_mode": {
    "name": "ipython",
    "version": 3
   },
   "file_extension": ".py",
   "mimetype": "text/x-python",
   "name": "python",
   "nbconvert_exporter": "python",
   "pygments_lexer": "ipython3",
   "version": "3.7.0"
  }
 },
 "nbformat": 4,
 "nbformat_minor": 2
}
